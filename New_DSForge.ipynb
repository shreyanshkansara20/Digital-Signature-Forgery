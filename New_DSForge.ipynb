{
 "cells": [
  {
   "cell_type": "code",
   "execution_count": 1,
   "metadata": {},
   "outputs": [],
   "source": [
    "import hashlib\n",
    "import rsa\n",
    "import os\n",
    "from gmpy2 import mpz, iroot   # For taking the ith root of large numbers"
   ]
  },
  {
   "cell_type": "code",
   "execution_count": 2,
   "metadata": {},
   "outputs": [],
   "source": [
    "def to_bytes(n):\n",
    "    return n.to_bytes((n.bit_length() // 8) + 1, byteorder='big')\n",
    "    \n",
    "def from_bytes(n):\n",
    "    return int.from_bytes(n,byteorder='big')\n",
    "\n",
    "def get_bit(n, b):\n",
    "    # Returns bth bit from the least significant bit starting from zero\n",
    "    return ((1 << b) & n) >> b\n",
    "\n",
    "def set_bit(n,b):\n",
    "    # Returns the number after changing bth bit to 1 from least significant bit\n",
    "    return (1<<b) | n\n",
    "\n",
    "def cube_root(n):\n",
    "    # Returns ith Root of Large Numbers\n",
    "    return int(iroot(mpz(n),3)[0])"
   ]
  },
  {
   "cell_type": "code",
   "execution_count": 3,
   "metadata": {},
   "outputs": [
    {
     "data": {
      "text/plain": [
       "2"
      ]
     },
     "execution_count": 3,
     "metadata": {},
     "output_type": "execute_result"
    }
   ],
   "source": [
    "cube_root(8)"
   ]
  },
  {
   "cell_type": "code",
   "execution_count": 4,
   "metadata": {},
   "outputs": [
    {
     "name": "stdout",
     "output_type": "stream",
     "text": [
      "b'My name is Shreyansh!'\n",
      "b'CWS\\xd9\\xa6\\xb1\\x0b\\xfa)L\\xd7\\xee\\x95\\x0b\\xa6\\x0e6pu\\xa5\\xdbS\\x0b\\x12\\x9d\\x17\\xf5\\xd1\\n\\xd1\\xf1{'\n"
     ]
    }
   ],
   "source": [
    "message = \"My name is Shreyansh!\".encode(\"ASCII\")\n",
    "print(message)\n",
    "message_hash = hashlib.sha256(message).digest()\n",
    "print(message_hash)"
   ]
  },
  {
   "cell_type": "code",
   "execution_count": 117,
   "metadata": {},
   "outputs": [
    {
     "name": "stdout",
     "output_type": "stream",
     "text": [
      "3031300d060960864801650304020105000420\n",
      "003031300d060960864801650304020105000420435753d9a6b10bfa294cd7ee950ba60e367075a5db530b129d17f5d10ad1f17b\n"
     ]
    }
   ],
   "source": [
    "ASN1_blob = rsa.pkcs1.HASH_ASN1['SHA-256']\n",
    "print(ASN1_blob.hex())\n",
    "suffix = b'\\x00' + ASN1_blob + message_hash\n",
    "print(suffix.hex())"
   ]
  },
  {
   "cell_type": "code",
   "execution_count": 9,
   "metadata": {},
   "outputs": [
    {
     "data": {
      "text/plain": [
       "1"
      ]
     },
     "execution_count": 9,
     "metadata": {},
     "output_type": "execute_result"
    }
   ],
   "source": [
    "#This has to be 1 because if the last bit is zero, then it becomes impossible to forge a suffix using this method.\n",
    "get_bit(from_bytes(suffix),0)"
   ]
  },
  {
   "cell_type": "code",
   "execution_count": 10,
   "metadata": {},
   "outputs": [],
   "source": [
    "new_sig_suffix=1\n",
    "\n",
    "for i in range(len(suffix)*8):\n",
    "    if get_bit(new_sig_suffix**3,i) != get_bit(from_bytes(suffix),i):\n",
    "        new_sig_suffix=set_bit(new_sig_suffix,i)\n",
    "        #print(bin(start_sig))"
   ]
  },
  {
   "cell_type": "code",
   "execution_count": 11,
   "metadata": {},
   "outputs": [
    {
     "data": {
      "text/plain": [
       "52"
      ]
     },
     "execution_count": 11,
     "metadata": {},
     "output_type": "execute_result"
    }
   ],
   "source": [
    "len(to_bytes((new_sig_suffix)))"
   ]
  },
  {
   "cell_type": "code",
   "execution_count": 121,
   "metadata": {},
   "outputs": [
    {
     "data": {
      "text/plain": [
       "'054e6f3c32ed03bd90567a28e2b7dcb842faa47ad7a4a96595c35f3ba10d27c0312c509a9458e7fd4e3640afcadb73b021adba5d892e9de868ae71505d4f0e201282ee21c70bd2d54a86df95e4aa9cb513bb610868620c4d5a5eeb85aee8fbf2529ec411694041b0003031300d060960864801650304020105000420435753d9a6b10bfa294cd7ee950ba60e367075a5db530b129d17f5d10ad1f17b'"
      ]
     },
     "execution_count": 121,
     "metadata": {},
     "output_type": "execute_result"
    }
   ],
   "source": [
    "to_bytes(new_sig_suffix**3).hex()"
   ]
  },
  {
   "cell_type": "code",
   "execution_count": 12,
   "metadata": {},
   "outputs": [
    {
     "data": {
      "text/plain": [
       "True"
      ]
     },
     "execution_count": 12,
     "metadata": {},
     "output_type": "execute_result"
    }
   ],
   "source": [
    "to_bytes((new_sig_suffix)**3).endswith(suffix)"
   ]
  },
  {
   "cell_type": "code",
   "execution_count": 115,
   "metadata": {},
   "outputs": [
    {
     "name": "stdout",
     "output_type": "stream",
     "text": [
      "2d5eb31a3fb3025e71b254de71d4ea35793ea6c5c76c57da5c9939488b259aad1846528062dbab8c39ac1d6a14e204a895ea5f847e1b60743ca6580ba86c50099d2227ad25ce0d7f223955679f9199b9ee91fdfe23\n"
     ]
    }
   ],
   "source": [
    "while True:\n",
    "    # os.urandom for getting Random Bytes of specific length suitable for cryptography\n",
    "    new_sig_prefix=b'\\x00\\x01'+os.urandom(2048//8 - 2)\n",
    "   \n",
    "    \n",
    "    # Generating Prefix and taking the prefix upto the length of suffix\n",
    "    \n",
    "    new_sig_prefix=to_bytes(cube_root(from_bytes(new_sig_prefix)))[:-len(suffix)]\n",
    "    #print(len(to_bytes(from_bytes(new_sig_prefix)**3)))\n",
    "    \n",
    "    new_sig=new_sig_prefix+to_bytes(new_sig_suffix)\n",
    "    \n",
    "    # We want length to be 85, because 256/3 is almost 85.\n",
    "    if len(new_sig) > 85:\n",
    "        new_sig=new_sig_prefix[:-(len(new_sig)-85)]+to_bytes(new_sig_suffix)\n",
    "    elif len(new_sig) < 85:\n",
    "        new_sig=new_sig_prefix+'\\xFF'*(85-len(new_sig))+to_bytes(new_sig_suffix)\n",
    "    else:\n",
    "        new_sig=new_sig_prefix+to_bytes(new_sig_suffix)\n",
    "        \n",
    "    #There should be no \\x00 in the cube of the signature otherwise verify function will fail \n",
    "    if b'\\x00' not in to_bytes(from_bytes(new_sig)**3)[2:-len(suffix)]:\n",
    "        print(new_sig.hex())\n",
    "        #print(len(to_bytes(from_bytes(new_sig)**3)))\n",
    "        break"
   ]
  },
  {
   "cell_type": "code",
   "execution_count": 113,
   "metadata": {},
   "outputs": [
    {
     "data": {
      "text/plain": [
       "'0198c9e0b263a0254ff0f5741ac68a97ff5237eb0cf4334a38b3700f47c33581d83ffd70feff310719eb157fe50eebafc1de2e9b39a54a113dc5215b3a0303f2949f6848c5eb58582f929e56466b6f410ad7ee0c14475d9644445235bec44ccddc7bf1fe4616599a3104e3fc03ecbf675b0639a1b0168b151cbe5aebe3c86ed3726e94692a1217ace599e872aa57dc5da1260cbdfeb07f21ee9ceac8918ee5b98527e57dbce2fc7aeb9412abd0615e6109f04e66c62d561e1d6bf6cdb3905f3363f7a215b29d36ab003031300d060960864801650304020105000420435753d9a6b10bfa294cd7ee950ba60e367075a5db530b129d17f5d10ad1f17b'"
      ]
     },
     "execution_count": 113,
     "metadata": {},
     "output_type": "execute_result"
    }
   ],
   "source": [
    "#Hex value of the signature seen on the victim side after decryption i.e. sig**3\n",
    "to_bytes(from_bytes(new_sig)**3).hex()"
   ]
  },
  {
   "cell_type": "code",
   "execution_count": 77,
   "metadata": {},
   "outputs": [],
   "source": [
    "# Generating new Keys\n",
    "key=rsa.newkeys(2048)[0]"
   ]
  },
  {
   "cell_type": "code",
   "execution_count": 78,
   "metadata": {},
   "outputs": [],
   "source": [
    "# Changing public key component to 3\n",
    "key.e=3"
   ]
  },
  {
   "cell_type": "code",
   "execution_count": 109,
   "metadata": {},
   "outputs": [
    {
     "data": {
      "text/plain": [
       "PublicKey(20519768567786630875477999578888994751771064050356093104671766931405716494568213155199930484401526140639276710219709466484808649764965004491334674872350505825174731226241640485231932699568272231448520813750527510269968503792555172786733345299893332373364313784056351292044572217348943524141005249442493035840600945669914962750362917689266058728986075610946992139566055707797064590156081130453759370672947127621519871224376502455847713723821242276110209212057509685665078454346228270138016274597182576800091115113780329156890150076744354988599725696215034215937133616626389120918341616363948668950117338075301515105501, 3)"
      ]
     },
     "execution_count": 109,
     "metadata": {},
     "output_type": "execute_result"
    }
   ],
   "source": [
    "key"
   ]
  },
  {
   "cell_type": "code",
   "execution_count": 80,
   "metadata": {},
   "outputs": [
    {
     "data": {
      "text/plain": [
       "True"
      ]
     },
     "execution_count": 80,
     "metadata": {},
     "output_type": "execute_result"
    }
   ],
   "source": [
    "rsa.verify(message,new_sig,key)"
   ]
  }
 ],
 "metadata": {
  "kernelspec": {
   "display_name": "Python 3",
   "language": "python",
   "name": "python3"
  },
  "language_info": {
   "codemirror_mode": {
    "name": "ipython",
    "version": 3
   },
   "file_extension": ".py",
   "mimetype": "text/x-python",
   "name": "python",
   "nbconvert_exporter": "python",
   "pygments_lexer": "ipython3",
   "version": "3.7.4"
  }
 },
 "nbformat": 4,
 "nbformat_minor": 2
}
